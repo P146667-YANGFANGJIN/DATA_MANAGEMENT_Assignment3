{
 "cells": [
  {
   "cell_type": "markdown",
   "id": "50670d37-e2fb-42e8-9bd2-2f26d6d36b9d",
   "metadata": {},
   "source": [
    "# 1. Data Preparation"
   ]
  },
  {
   "cell_type": "markdown",
   "id": "639cc820-3241-4469-a5a4-3ee33b3b655e",
   "metadata": {},
   "source": [
    "## Dataset Download"
   ]
  },
  {
   "cell_type": "code",
   "execution_count": null,
   "id": "d9792d9d-762c-416b-b3eb-3255ee5fbbf7",
   "metadata": {},
   "outputs": [],
   "source": [
    "%sh  \n",
    "wget http://media.sundog-soft.com/hadoop/ml-100k/u.data -O /tmp/u.data  \n",
    "wget http://media.sundog-soft.com/hadoop/ml-100k/u.item -O /tmp/u.item  \n",
    "wget http://media.sundog-soft.com/hadoop/ml-100k/u.user -O /tmp/u.user  "
   ]
  },
  {
   "cell_type": "markdown",
   "id": "98911d6f-a82c-4960-807f-5224c80d1175",
   "metadata": {},
   "source": [
    "## Upload to HDFS"
   ]
  },
  {
   "cell_type": "code",
   "execution_count": null,
   "id": "0288e1a2-f1aa-4b66-8bf1-5fcfe95d78f3",
   "metadata": {},
   "outputs": [],
   "source": [
    "%sh  \n",
    "hadoop fs -rm -r -f /tmp/ml-100k  \n",
    "hadoop fs -mkdir /tmp/ml-100k  \n",
    "hadoop fs -put /tmp/u.data /tmp/ml-100k/  \n",
    "hadoop fs -put /tmp/u.item /tmp/ml-100k/  \n",
    "hadoop fs -put /tmp/u.user /tmp/ml-100k/  "
   ]
  },
  {
   "cell_type": "markdown",
   "id": "a615a154-0239-429d-acec-7602bad9862a",
   "metadata": {},
   "source": [
    "## Load Raw Files into RDDs"
   ]
  },
  {
   "cell_type": "code",
   "execution_count": null,
   "id": "a892fd2f-f2e5-4c18-ad38-e2290968a6e8",
   "metadata": {},
   "outputs": [],
   "source": [
    "%pyspark\n",
    "user_rdd = sc.textFile(\"/tmp/ml-100k/u.user\")\n",
    "ratings_rdd = sc.textFile(\"/tmp/ml-100k/u.data\")\n",
    "item_rdd = sc.textFile(\"/tmp/ml-100k/u.item\")"
   ]
  },
  {
   "cell_type": "markdown",
   "id": "b1a55609-7698-4998-b345-604d75d187c8",
   "metadata": {},
   "source": [
    "## Parse u.user and Create DataFrame"
   ]
  },
  {
   "cell_type": "code",
   "execution_count": null,
   "id": "804ee392-3078-4115-afb5-7e6fb257ce09",
   "metadata": {},
   "outputs": [],
   "source": [
    "%pyspark\n",
    "from pyspark.sql import Row\n",
    "# Split and convert to Row objects\n",
    "user_rows = user_rdd.map(lambda line: line.split('|')) \\\n",
    "                    .map(lambda fields: Row(\n",
    "                        user_id=int(fields[0]),\n",
    "                        age=int(fields[1]),\n",
    "                        gender=fields[2],\n",
    "                        occupation=fields[3],\n",
    "                        zip_code=fields[4]\n",
    "                    ))\n",
    "\n",
    "#  Create a DataFrame and register a temporary table\n",
    "user_df = spark.createDataFrame(user_rows)\n",
    "user_df.createOrReplaceTempView(\"users\")\n",
    "user_df.show(5)"
   ]
  },
  {
   "cell_type": "markdown",
   "id": "b4c1cac0-62e1-4b7c-a9ca-d69d5001bf06",
   "metadata": {},
   "source": [
    "+---+------+----------+-------+--------+  \n",
    "|age|gender|occupation|user_id|zip_code|  \n",
    "+---+------+----------+-------+--------+  \n",
    "| 24|     M|technician|      1|   85711|  \n",
    "| 53|     F|     other|      2|   94043|  \n",
    "| 23|     M|    writer|      3|   32067|  \n",
    "| 24|     M|technician|      4|   43537|  \n",
    "| 33|     F|     other|      5|   15213|  \n",
    "+---+------+----------+-------+--------+  \n",
    "only showing top 5 rows  "
   ]
  },
  {
   "cell_type": "markdown",
   "id": "e4439280-797f-43ff-ae61-be9a6b6f341b",
   "metadata": {},
   "source": [
    "## Parse u.data and Create Ratings DataFrame"
   ]
  },
  {
   "cell_type": "code",
   "execution_count": null,
   "id": "9d0ebbcc-34ca-4c86-93c1-7bd57c9ca9e6",
   "metadata": {},
   "outputs": [],
   "source": [
    "%pyspark\n",
    "ratings_rows = ratings_rdd.map(lambda line: line.split('\\t')) \\\n",
    "                          .map(lambda fields: Row(\n",
    "                              user_id=int(fields[0]),\n",
    "                              movie_id=int(fields[1]),\n",
    "                              rating=int(fields[2]),\n",
    "                              timestamp=int(fields[3])\n",
    "                          ))\n",
    "\n",
    "\n",
    "ratings_df = spark.createDataFrame(ratings_rows)\n",
    "ratings_df.createOrReplaceTempView(\"ratings\")\n",
    "\n",
    "ratings_df.show(5)"
   ]
  },
  {
   "cell_type": "markdown",
   "id": "2c19632c-8994-4eaa-b7a9-65c26cbe685c",
   "metadata": {},
   "source": [
    "+--------+------+---------+-------+  \n",
    "|movie_id|rating|timestamp|user_id|  \n",
    "+--------+------+---------+-------+  \n",
    "|      50|     5|881250949|      0|  \n",
    "|     172|     5|881250949|      0|  \n",
    "|     133|     1|881250949|      0|  \n",
    "|     242|     3|881250949|    196|  \n",
    "|     302|     3|891717742|    186|  \n",
    "+--------+------+---------+-------+  \n",
    "only showing top 5 rows  "
   ]
  },
  {
   "cell_type": "markdown",
   "id": "4f635b9b-8d1b-4cc8-9171-394f714e4fe7",
   "metadata": {},
   "source": [
    "## Parse u.item and Create Movies DataFrame"
   ]
  },
  {
   "cell_type": "code",
   "execution_count": null,
   "id": "f967b829-a6ac-4bab-a527-8c85106a5d1c",
   "metadata": {},
   "outputs": [],
   "source": [
    "%pyspark\n",
    "item_rows = item_rdd.map(lambda line: line.split('|')) \\\n",
    "                    .map(lambda fields: Row(\n",
    "                        movie_id=int(fields[0]),\n",
    "                        title=fields[1],\n",
    "                        release_date=fields[2],\n",
    "                        video_release=fields[3],\n",
    "                        imdb_url=fields[4],\n",
    "                        genre_flags=fields[5:]\n",
    "                    ))\n",
    "\n",
    "\n",
    "item_df = spark.createDataFrame(item_rows)\n",
    "item_df.createOrReplaceTempView(\"movies\")\n",
    "\n",
    "item_df.show(5)"
   ]
  },
  {
   "cell_type": "markdown",
   "id": "438e21cd-1d18-4e97-b645-2f17fdb8dc87",
   "metadata": {},
   "source": [
    "+--------------------+--------------------+--------+------------+-----------------+-------------+  \n",
    "|         genre_flags|            imdb_url|movie_id|release_date|            title|video_release|  \n",
    "+--------------------+--------------------+--------+------------+-----------------+-------------+  \n",
    "|[0, 0, 0, 1, 1, 1...|http://us.imdb.co...|       1| 01-Jan-1995| Toy Story (1995)|             |  \n",
    "|[0, 1, 1, 0, 0, 0...|http://us.imdb.co...|       2| 01-Jan-1995| GoldenEye (1995)|             |  \n",
    "|[0, 0, 0, 0, 0, 0...|http://us.imdb.co...|       3| 01-Jan-1995|Four Rooms (1995)|             |  \n",
    "|[0, 1, 0, 0, 0, 1...|http://us.imdb.co...|       4| 01-Jan-1995|Get Shorty (1995)|             |  \n",
    "|[0, 0, 0, 0, 0, 0...|http://us.imdb.co...|       5| 01-Jan-1995|   Copycat (1995)|             |  \n",
    "+--------------------+--------------------+--------+------------+-----------------+-------------+  \n",
    "only showing top 5 rows  "
   ]
  },
  {
   "cell_type": "code",
   "execution_count": null,
   "id": "5b6cd808-113d-4344-a59b-0c298fd221d0",
   "metadata": {},
   "outputs": [],
   "source": []
  },
  {
   "cell_type": "markdown",
   "id": "83b1c0f5-f33d-4b1d-9f68-2929acce85cc",
   "metadata": {},
   "source": [
    "# 2. User-Movie Analysis Tasks"
   ]
  },
  {
   "cell_type": "markdown",
   "id": "0068e502-09c8-4656-a542-7b375f470707",
   "metadata": {},
   "source": [
    "## i) Calculate the average rating for each movie"
   ]
  },
  {
   "cell_type": "code",
   "execution_count": null,
   "id": "35763f0f-5818-4c28-a1b2-d3408f28d0ff",
   "metadata": {},
   "outputs": [],
   "source": [
    "%sql\n",
    "SELECT movie_id, AVG(rating) AS avg_rating\n",
    "FROM ratings\n",
    "GROUP BY movie_id\n",
    "LIMIT 10"
   ]
  },
  {
   "cell_type": "code",
   "execution_count": null,
   "id": "5c419843-671e-4891-a869-a71f85eb55e0",
   "metadata": {},
   "outputs": [],
   "source": []
  },
  {
   "cell_type": "markdown",
   "id": "b9fe3edc-9132-427b-b02c-440050606ff4",
   "metadata": {},
   "source": [
    "## ii) Identify the top ten movies with the highest average ratings"
   ]
  },
  {
   "cell_type": "code",
   "execution_count": null,
   "id": "53e6b724-2024-4cb5-ac38-40b2e1dcb3ad",
   "metadata": {},
   "outputs": [],
   "source": [
    "%sql\n",
    "SELECT m.title, AVG(r.rating) AS avg_rating\n",
    "FROM ratings r\n",
    "JOIN movies m ON r.movie_id = m.movie_id\n",
    "GROUP BY m.title\n",
    "ORDER BY avg_rating DESC\n",
    "LIMIT 10"
   ]
  },
  {
   "cell_type": "code",
   "execution_count": null,
   "id": "2dc81e2d-e359-47b2-9e40-5b244feb3dcc",
   "metadata": {},
   "outputs": [],
   "source": []
  },
  {
   "cell_type": "markdown",
   "id": "00e8ca18-e020-4371-bdac-185d0f47894f",
   "metadata": {},
   "source": [
    "## iii) Find the users who have rated at least 50 movies and identify their favourite movie genres"
   ]
  },
  {
   "cell_type": "code",
   "execution_count": null,
   "id": "442df8ef-4848-4938-abe7-896c43c7935a",
   "metadata": {},
   "outputs": [],
   "source": [
    "%sql\n",
    "WITH active_users AS (\n",
    "    SELECT user_id\n",
    "    FROM ratings\n",
    "    GROUP BY user_id\n",
    "    HAVING COUNT(*) >= 50\n",
    "),\n",
    "user_favs AS (\n",
    "    SELECT r.user_id, m.title, COUNT(*) AS rating_count\n",
    "    FROM ratings r\n",
    "    JOIN active_users a ON r.user_id = a.user_id\n",
    "    JOIN movies m ON r.movie_id = m.movie_id\n",
    "    GROUP BY r.user_id, m.title\n",
    ")\n",
    "SELECT user_id, title AS favorite_movie\n",
    "FROM (\n",
    "    SELECT user_id, title, rating_count,\n",
    "           ROW_NUMBER() OVER (PARTITION BY user_id ORDER BY rating_count DESC) AS rn\n",
    "    FROM user_favs\n",
    ") t\n",
    "WHERE rn = 1\n",
    "LIMIT 10"
   ]
  },
  {
   "cell_type": "code",
   "execution_count": null,
   "id": "73d8f998-8236-485c-92ff-1db5a36c591b",
   "metadata": {},
   "outputs": [],
   "source": []
  },
  {
   "cell_type": "markdown",
   "id": "6dfcb1c0-8628-464d-bf89-ec83f9269e1a",
   "metadata": {},
   "source": [
    "## iv) Find all the users who are less than 20 years old"
   ]
  },
  {
   "cell_type": "code",
   "execution_count": null,
   "id": "f6091a8e-8a96-44ba-9d5e-ce4769cdb58b",
   "metadata": {},
   "outputs": [],
   "source": [
    "%sql\n",
    "SELECT * FROM users\n",
    "WHERE age < 20\n",
    "LIMIT 10"
   ]
  },
  {
   "cell_type": "code",
   "execution_count": null,
   "id": "6c7b6561-af37-4d4f-a563-a6be7a0d9c7f",
   "metadata": {},
   "outputs": [],
   "source": []
  },
  {
   "cell_type": "markdown",
   "id": "a6c25d1b-b2f9-4104-825d-7747106dac36",
   "metadata": {},
   "source": [
    "## v) Find all the users whose occupation is “scientist” and whose age is between 30 and 40 years old"
   ]
  },
  {
   "cell_type": "code",
   "execution_count": null,
   "id": "4d363e5d-e0c1-471c-810c-3f046e6184cd",
   "metadata": {},
   "outputs": [],
   "source": [
    "%sql\n",
    "SELECT * FROM users\n",
    "WHERE occupation = 'scientist' AND age BETWEEN 30 AND 40\n",
    "LIMIT 10"
   ]
  },
  {
   "cell_type": "code",
   "execution_count": null,
   "id": "17e72341-fa47-40d3-a742-ce8c3880842d",
   "metadata": {},
   "outputs": [],
   "source": []
  },
  {
   "cell_type": "code",
   "execution_count": null,
   "id": "6e98cf09-cd36-44fb-b0d7-4ad6313fc704",
   "metadata": {},
   "outputs": [],
   "source": []
  },
  {
   "cell_type": "code",
   "execution_count": null,
   "id": "0536a694-107d-43a2-931a-c15b3217b3be",
   "metadata": {},
   "outputs": [],
   "source": []
  },
  {
   "cell_type": "code",
   "execution_count": null,
   "id": "d11eec78-2f3f-4f3a-8871-d160f84e6691",
   "metadata": {},
   "outputs": [],
   "source": []
  },
  {
   "cell_type": "code",
   "execution_count": null,
   "id": "4f61d35a-1d96-4542-a947-7b57c4114699",
   "metadata": {},
   "outputs": [],
   "source": []
  }
 ],
 "metadata": {
  "kernelspec": {
   "display_name": "Python 3 (ipykernel)",
   "language": "python",
   "name": "python3"
  },
  "language_info": {
   "codemirror_mode": {
    "name": "ipython",
    "version": 3
   },
   "file_extension": ".py",
   "mimetype": "text/x-python",
   "name": "python",
   "nbconvert_exporter": "python",
   "pygments_lexer": "ipython3",
   "version": "3.12.7"
  }
 },
 "nbformat": 4,
 "nbformat_minor": 5
}
